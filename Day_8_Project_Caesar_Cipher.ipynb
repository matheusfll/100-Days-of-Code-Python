{
  "nbformat": 4,
  "nbformat_minor": 0,
  "metadata": {
    "colab": {
      "name": "Day_8_Project_Caesar_Cipher.ipynb",
      "provenance": [],
      "authorship_tag": "ABX9TyOOQCW6Zvndov8hZ4FcX3HK",
      "include_colab_link": true
    },
    "kernelspec": {
      "name": "python3",
      "display_name": "Python 3"
    }
  },
  "cells": [
    {
      "cell_type": "markdown",
      "metadata": {
        "id": "view-in-github",
        "colab_type": "text"
      },
      "source": [
        "<a href=\"https://colab.research.google.com/github/matheusfll/100-Days-of-Code-Python/blob/main/Day_8_Project_Caesar_Cipher.ipynb\" target=\"_parent\"><img src=\"https://colab.research.google.com/assets/colab-badge.svg\" alt=\"Open In Colab\"/></a>"
      ]
    },
    {
      "cell_type": "code",
      "metadata": {
        "id": "iTb1s84COgD_"
      },
      "source": [
        "alphabet = ['a', 'b', 'c', 'd', 'e', 'f', 'g', 'h', 'i', 'j', 'k', 'l', 'm', 'n', 'o', 'p', 'q', 'r', 's', 't', 'u', 'v', 'w', 'x', 'y', 'z', 'a', 'b', 'c', 'd', 'e', 'f', 'g', 'h', 'i', 'j', 'k', 'l', 'm', 'n', 'o', 'p', 'q', 'r', 's', 't', 'u', 'v', 'w', 'x', 'y', 'z']\r\n",
        "\r\n",
        "def caesar(start_text, shift_amount, cipher_direction):\r\n",
        "  end_text = \"\"\r\n",
        "  if cipher_direction == \"decode\":\r\n",
        "    shift_amount *= -1\r\n",
        "  for char in start_text:\r\n",
        "    if char in alphabet:\r\n",
        "      position = alphabet.index(char)\r\n",
        "      new_position = position + shift_amount\r\n",
        "      end_text += alphabet[new_position]\r\n",
        "    else:\r\n",
        "      end_text += char\r\n",
        "  print(f\"Here's the {cipher_direction}d result: {end_text}\")\r\n",
        "\r\n",
        "should_end = False\r\n",
        "while not should_end:\r\n",
        "\r\n",
        "  direction = input(\"Type 'encode' to encrypt, type 'decode' to decrypt:\\n\")\r\n",
        "  text = input(\"Type your message:\\n\").lower()\r\n",
        "  shift = int(input(\"Type the shift number:\\n\"))\r\n",
        "  shift = shift % 26\r\n",
        "\r\n",
        "  caesar(start_text=text, shift_amount=shift, cipher_direction=direction)\r\n",
        "\r\n",
        "  restart = input(\"Type 'yes' if you want to go again. Otherwise type 'no'.\\n\")\r\n",
        "  if restart == \"no\":\r\n",
        "    should_end = True\r\n",
        "    print(\"Goodbye\")\r\n",
        "    \r\n",
        "\r\n",
        "\r\n"
      ],
      "execution_count": null,
      "outputs": []
    }
  ]
}