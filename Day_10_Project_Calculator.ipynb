{
  "nbformat": 4,
  "nbformat_minor": 0,
  "metadata": {
    "colab": {
      "name": "Day_10_Project_Calculator.ipynb",
      "provenance": [],
      "authorship_tag": "ABX9TyM3jmLn2Kt+HM6I92xpQW28",
      "include_colab_link": true
    },
    "kernelspec": {
      "name": "python3",
      "display_name": "Python 3"
    }
  },
  "cells": [
    {
      "cell_type": "markdown",
      "metadata": {
        "id": "view-in-github",
        "colab_type": "text"
      },
      "source": [
        "<a href=\"https://colab.research.google.com/github/matheusfll/100-Days-of-Code-Python/blob/main/Day_10_Project_Calculator.ipynb\" target=\"_parent\"><img src=\"https://colab.research.google.com/assets/colab-badge.svg\" alt=\"Open In Colab\"/></a>"
      ]
    },
    {
      "cell_type": "code",
      "metadata": {
        "colab": {
          "base_uri": "https://localhost:8080/"
        },
        "id": "f2bADaGqSPwn",
        "outputId": "79c71b3e-5739-4943-c23c-f967ef2ac76c"
      },
      "source": [
        "from google.colab import output\r\n",
        "logo=\"\"\"\r\n",
        " _____________________\r\n",
        "|  _________________  |\r\n",
        "| |   Pythonista    | |  .----------------.  .----------------.  .----------------.  .----------------. \r\n",
        "| |_________________| | | .--------------. || .--------------. || .--------------. || .--------------. |\r\n",
        "|  ___ ___ ___   ___  | | |     ______   | || |      __      | || |   _____      | || |     ______   | |\r\n",
        "| | 7 | 8 | 9 | | + | | | |   .' ___  |  | || |     /  \\     | || |  |_   _|     | || |   .' ___  |  | |\r\n",
        "| |___|___|___| |___| | | |  / .'   \\_|  | || |    / /\\ \\    | || |    | |       | || |  / .'   \\_|  | |\r\n",
        "| | 4 | 5 | 6 | | - | | | |  | |         | || |   / ____ \\   | || |    | |   _   | || |  | |         | |\r\n",
        "| |___|___|___| |___| | | |  \\ `.___.'\\  | || | _/ /    \\ \\_ | || |   _| |__/ |  | || |  \\ `.___.'\\  | |\r\n",
        "| | 1 | 2 | 3 | | x | | | |   `._____.'  | || ||____|  |____|| || |  |________|  | || |   `._____.'  | |\r\n",
        "| |___|___|___| |___| | | |              | || |              | || |              | || |              | |\r\n",
        "| | . | 0 | = | | / | | | '--------------' || '--------------' || '--------------' || '--------------' |\r\n",
        "| |___|___|___| |___| |  '----------------'  '----------------'  '----------------'  '----------------' \r\n",
        "|_____________________|\r\n",
        "\"\"\"\r\n",
        "\r\n",
        "\r\n",
        "def add(n1, n2):\r\n",
        "  return n1 + n2\r\n",
        "\r\n",
        "def subtract(n1, n2):\r\n",
        "  return n1 - n2\r\n",
        "\r\n",
        "def multiply(n1, n2):\r\n",
        "  return n1 * n2\r\n",
        "\r\n",
        "def divide(n1, n2):\r\n",
        "  return n1 / n2\r\n",
        "\r\n",
        "operations = {\r\n",
        "  \"+\": add,\r\n",
        "  \"-\": subtract,\r\n",
        "  \"*\": multiply,\r\n",
        "  \"/\": divide\r\n",
        "}\r\n",
        "\r\n",
        "def calculator():\r\n",
        "  print(logo)\r\n",
        "\r\n",
        "  num1 = float(input(\"What's the first number?: \"))\r\n",
        "  for symbol in operations:\r\n",
        "    print(symbol)\r\n",
        "  should_continue = True\r\n",
        " \r\n",
        "  while should_continue:\r\n",
        "    operation_symbol = input(\"Pick an operation: \")\r\n",
        "    num2 = float(input(\"What's the next number?: \"))\r\n",
        "    calculation_function = operations[operation_symbol]\r\n",
        "    answer = calculation_function(num1, num2)\r\n",
        "    print(f\"{num1} {operation_symbol} {num2} = {answer}\")\r\n",
        "\r\n",
        "    if input(f\"Type 'y' to continue calculating with {answer}, or type 'n' to start a new calculation: \") == 'y':\r\n",
        "      num1 = answer\r\n",
        "    else:\r\n",
        "      should_continue = False\r\n",
        "      output.clear()\r\n",
        "      calculator()\r\n",
        "\r\n",
        "calculator()"
      ],
      "execution_count": null,
      "outputs": [
        {
          "output_type": "stream",
          "text": [
            "\n",
            " _____________________\n",
            "|  _________________  |\n",
            "| |   Pythonista    | |  .----------------.  .----------------.  .----------------.  .----------------. \n",
            "| |_________________| | | .--------------. || .--------------. || .--------------. || .--------------. |\n",
            "|  ___ ___ ___   ___  | | |     ______   | || |      __      | || |   _____      | || |     ______   | |\n",
            "| | 7 | 8 | 9 | | + | | | |   .' ___  |  | || |     /  \\     | || |  |_   _|     | || |   .' ___  |  | |\n",
            "| |___|___|___| |___| | | |  / .'   \\_|  | || |    / /\\ \\    | || |    | |       | || |  / .'   \\_|  | |\n",
            "| | 4 | 5 | 6 | | - | | | |  | |         | || |   / ____ \\   | || |    | |   _   | || |  | |         | |\n",
            "| |___|___|___| |___| | | |  \\ `.___.'\\  | || | _/ /    \\ \\_ | || |   _| |__/ |  | || |  \\ `.___.'\\  | |\n",
            "| | 1 | 2 | 3 | | x | | | |   `._____.'  | || ||____|  |____|| || |  |________|  | || |   `._____.'  | |\n",
            "| |___|___|___| |___| | | |              | || |              | || |              | || |              | |\n",
            "| | . | 0 | = | | / | | | '--------------' || '--------------' || '--------------' || '--------------' |\n",
            "| |___|___|___| |___| |  '----------------'  '----------------'  '----------------'  '----------------' \n",
            "|_____________________|\n",
            "\n"
          ],
          "name": "stdout"
        }
      ]
    }
  ]
}