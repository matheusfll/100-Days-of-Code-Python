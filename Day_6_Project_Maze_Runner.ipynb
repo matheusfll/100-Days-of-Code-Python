{
  "nbformat": 4,
  "nbformat_minor": 0,
  "metadata": {
    "colab": {
      "name": "Day_6_Project_Maze_Runner.ipynb",
      "provenance": [],
      "authorship_tag": "ABX9TyOZJMghTiv8tYI+mz7Zlqyy",
      "include_colab_link": true
    },
    "kernelspec": {
      "name": "python3",
      "display_name": "Python 3"
    }
  },
  "cells": [
    {
      "cell_type": "markdown",
      "metadata": {
        "id": "view-in-github",
        "colab_type": "text"
      },
      "source": [
        "<a href=\"https://colab.research.google.com/github/matheusfll/100-Days-of-Code-Python/blob/main/Day_6_Project_Maze_Runner.ipynb\" target=\"_parent\"><img src=\"https://colab.research.google.com/assets/colab-badge.svg\" alt=\"Open In Colab\"/></a>"
      ]
    },
    {
      "cell_type": "markdown",
      "metadata": {
        "id": "jZBDCZAnUtBc"
      },
      "source": [
        "script to solve the \"Maze\" problem at Reeborg's World\r\n",
        "\r\n",
        "https://reeborg.ca/reeborg.html?lang=en&mode=python&menu=worlds%2Fmenus%2Freeborg_intro_en.json&name=Maze&url=worlds%2Ftutorial_en%2Fmaze1.json"
      ]
    },
    {
      "cell_type": "code",
      "metadata": {
        "id": "W8RbMZQgU1n-"
      },
      "source": [
        "def turn_right():\r\n",
        "    turn_left()\r\n",
        "    turn_left()\r\n",
        "    turn_left()\r\n",
        "\r\n",
        "while front_is_clear():\r\n",
        "    move()\r\n",
        "turn_left()\r\n",
        "\r\n",
        "while not at_goal():\r\n",
        "    if right_is_clear():\r\n",
        "        turn_right()\r\n",
        "        move()\r\n",
        "    elif front_is_clear():\r\n",
        "        move()\r\n",
        "    else:\r\n",
        "        turn_left()"
      ],
      "execution_count": null,
      "outputs": []
    }
  ]
}