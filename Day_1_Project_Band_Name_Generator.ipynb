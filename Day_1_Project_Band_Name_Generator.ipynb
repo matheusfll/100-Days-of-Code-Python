{
  "nbformat": 4,
  "nbformat_minor": 0,
  "metadata": {
    "colab": {
      "name": "Day 1 Project : Band Name Generator.ipynb",
      "provenance": [],
      "authorship_tag": "ABX9TyPRptfukm6QQ9uXiYMVQFWr"
    },
    "kernelspec": {
      "name": "python3",
      "display_name": "Python 3"
    }
  },
  "cells": [
    {
      "cell_type": "code",
      "metadata": {
        "id": "o0P38VucKt2F"
      },
      "source": [
        ""
      ],
      "execution_count": null,
      "outputs": []
    }
  ]
}