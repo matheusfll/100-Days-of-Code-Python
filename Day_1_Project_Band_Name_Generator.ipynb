{
  "nbformat": 4,
  "nbformat_minor": 0,
  "metadata": {
    "colab": {
      "name": "Day 1 Project : Band Name Generator.ipynb",
      "provenance": [],
      "authorship_tag": "ABX9TyMrK90tu0Sst7vkv7i9FdlR",
      "include_colab_link": true
    },
    "kernelspec": {
      "name": "python3",
      "display_name": "Python 3"
    }
  },
  "cells": [
    {
      "cell_type": "markdown",
      "metadata": {
        "id": "view-in-github",
        "colab_type": "text"
      },
      "source": [
        "<a href=\"https://colab.research.google.com/github/matheusfll/100-Days-of-Code-Python/blob/main/Day_1_Project_Band_Name_Generator.ipynb\" target=\"_parent\"><img src=\"https://colab.research.google.com/assets/colab-badge.svg\" alt=\"Open In Colab\"/></a>"
      ]
    },
    {
      "cell_type": "markdown",
      "metadata": {
        "id": "Hiu-_-8IUp_g"
      },
      "source": [
        "#1. Create a greeting for your program."
      ]
    },
    {
      "cell_type": "code",
      "metadata": {
        "colab": {
          "base_uri": "https://localhost:8080/"
        },
        "id": "klgMx1u9UrTs",
        "outputId": "a8f59071-66ec-4039-ec74-dc774f518011"
      },
      "source": [
        "print ('Welcome')"
      ],
      "execution_count": 1,
      "outputs": [
        {
          "output_type": "stream",
          "text": [
            "Welcome\n"
          ],
          "name": "stdout"
        }
      ]
    },
    {
      "cell_type": "markdown",
      "metadata": {
        "id": "EApmbrq8Usx-"
      },
      "source": [
        "#2. Ask the user for the city that they grew up in."
      ]
    },
    {
      "cell_type": "code",
      "metadata": {
        "colab": {
          "base_uri": "https://localhost:8080/"
        },
        "id": "SU8ifd2GUudW",
        "outputId": "0e403f5b-f3e5-4740-ae3b-5961238065ef"
      },
      "source": [
        "city = input ('what city did you grow up? ')"
      ],
      "execution_count": 2,
      "outputs": [
        {
          "output_type": "stream",
          "text": [
            "what city did you grow up? Belém\n"
          ],
          "name": "stdout"
        }
      ]
    },
    {
      "cell_type": "markdown",
      "metadata": {
        "id": "jbEdB3-rUukv"
      },
      "source": [
        "#3. Ask the user for the name of a pet."
      ]
    },
    {
      "cell_type": "code",
      "metadata": {
        "colab": {
          "base_uri": "https://localhost:8080/"
        },
        "id": "KVdLDbwMUwKw",
        "outputId": "6a6a4c28-30b3-436a-b467-3ef8ae36d9de"
      },
      "source": [
        "pet = input ('what is the name of your pet? ')"
      ],
      "execution_count": 3,
      "outputs": [
        {
          "output_type": "stream",
          "text": [
            "what is the name of your pet? Spyke\n"
          ],
          "name": "stdout"
        }
      ]
    },
    {
      "cell_type": "markdown",
      "metadata": {
        "id": "_BQARWXdUwQW"
      },
      "source": [
        "#4. Combine the name of their city and pet and show them their band name."
      ]
    },
    {
      "cell_type": "code",
      "metadata": {
        "colab": {
          "base_uri": "https://localhost:8080/"
        },
        "id": "y2zgJbJ3Uxxs",
        "outputId": "d75d8443-9694-4c86-95c7-a651265f2811"
      },
      "source": [
        "band_name = city + \" \" + pet\r\n",
        "print ('Your band name could be: '+ band_name)"
      ],
      "execution_count": 7,
      "outputs": [
        {
          "output_type": "stream",
          "text": [
            "Your band name could be: Belém Spyke\n"
          ],
          "name": "stdout"
        }
      ]
    },
    {
      "cell_type": "markdown",
      "metadata": {
        "id": "eBm5bAtOUx2F"
      },
      "source": [
        ""
      ]
    },
    {
      "cell_type": "markdown",
      "metadata": {
        "id": "HA3U3SlvU20S"
      },
      "source": [
        "#5. Make sure the input cursor shows on a new line, see the example at:\r\n",
        "#   https://band-name-generator-end.appbrewery.repl.run/"
      ]
    }
  ]
}