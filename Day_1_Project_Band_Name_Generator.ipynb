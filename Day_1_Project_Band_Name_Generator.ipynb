{
  "nbformat": 4,
  "nbformat_minor": 0,
  "metadata": {
    "colab": {
      "name": "Day 1 Project : Band Name Generator.ipynb",
      "provenance": [],
      "authorship_tag": "ABX9TyNrryC9/HrWCL6ZzXAFQ5S8",
      "include_colab_link": true
    },
    "kernelspec": {
      "name": "python3",
      "display_name": "Python 3"
    }
  },
  "cells": [
    {
      "cell_type": "markdown",
      "metadata": {
        "id": "view-in-github",
        "colab_type": "text"
      },
      "source": [
        "<a href=\"https://colab.research.google.com/github/matheusfll/100-Days-of-Code-Python/blob/main/Day_1_Project_Band_Name_Generator.ipynb\" target=\"_parent\"><img src=\"https://colab.research.google.com/assets/colab-badge.svg\" alt=\"Open In Colab\"/></a>"
      ]
    },
    {
      "cell_type": "markdown",
      "metadata": {
        "id": "Hiu-_-8IUp_g"
      },
      "source": [
        "#1. Create a greeting for your program."
      ]
    },
    {
      "cell_type": "code",
      "metadata": {
        "id": "klgMx1u9UrTs"
      },
      "source": [
        "print ('Welcome')"
      ],
      "execution_count": null,
      "outputs": []
    },
    {
      "cell_type": "markdown",
      "metadata": {
        "id": "EApmbrq8Usx-"
      },
      "source": [
        "#2. Ask the user for the city that they grew up in."
      ]
    },
    {
      "cell_type": "code",
      "metadata": {
        "id": "SU8ifd2GUudW"
      },
      "source": [
        "city = input ('what city did you grow up?\\n ')"
      ],
      "execution_count": null,
      "outputs": []
    },
    {
      "cell_type": "markdown",
      "metadata": {
        "id": "jbEdB3-rUukv"
      },
      "source": [
        "#3. Ask the user for the name of a pet."
      ]
    },
    {
      "cell_type": "code",
      "metadata": {
        "id": "KVdLDbwMUwKw"
      },
      "source": [
        "pet = input ('what is the name of your pet?\\n ')"
      ],
      "execution_count": null,
      "outputs": []
    },
    {
      "cell_type": "markdown",
      "metadata": {
        "id": "_BQARWXdUwQW"
      },
      "source": [
        "#4. Combine the name of their city and pet and show them their band name."
      ]
    },
    {
      "cell_type": "code",
      "metadata": {
        "id": "y2zgJbJ3Uxxs"
      },
      "source": [
        "band_name = city + \" \" + pet\r\n",
        "print ('Your band name could be: '+ band_name)"
      ],
      "execution_count": null,
      "outputs": []
    },
    {
      "cell_type": "markdown",
      "metadata": {
        "id": "eBm5bAtOUx2F"
      },
      "source": [
        ""
      ]
    },
    {
      "cell_type": "markdown",
      "metadata": {
        "id": "HA3U3SlvU20S"
      },
      "source": [
        "#5. Make sure the input cursor shows on a new line, see the example at:\r\n",
        "#   https://band-name-generator-end.appbrewery.repl.run/"
      ]
    }
  ]
}