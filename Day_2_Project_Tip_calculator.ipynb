{
  "nbformat": 4,
  "nbformat_minor": 0,
  "metadata": {
    "colab": {
      "name": "Day_2_Project_Tip_calculator.ipynb",
      "provenance": [],
      "authorship_tag": "ABX9TyPFi+7e43snfkem03q3dafL",
      "include_colab_link": true
    },
    "kernelspec": {
      "name": "python3",
      "display_name": "Python 3"
    }
  },
  "cells": [
    {
      "cell_type": "markdown",
      "metadata": {
        "id": "view-in-github",
        "colab_type": "text"
      },
      "source": [
        "<a href=\"https://colab.research.google.com/github/matheusfll/100-Days-of-Code-Python/blob/main/Day_2_Project_Tip_calculator.ipynb\" target=\"_parent\"><img src=\"https://colab.research.google.com/assets/colab-badge.svg\" alt=\"Open In Colab\"/></a>"
      ]
    },
    {
      "cell_type": "markdown",
      "metadata": {
        "id": "Ssjik9It5D0v"
      },
      "source": [
        "## #If the bill was $150.00, split between 5 people, with 12% tip. \r\n",
        "#Each person should pay (150.00 / 5) * 1.12 = 33.6\r\n",
        "#Format the result to 2 decimal places = 33.60\r\n",
        "#Tip: There are 2 ways to round a number. You might have to do some Googling to solve this.💪\r\n",
        "#HINT 1: https://www.google.com/search?q=how+to+round+number+to+2+decimal+places+python&oq=how+to+round+number+to+2+decimal\r\n",
        "#HINT 2: https://www.kite.com/python/answers/how-to-limit-a-float-to-two-decimal-places-in-python\r\n"
      ]
    },
    {
      "cell_type": "code",
      "metadata": {
        "id": "63SjtiQm5FT-"
      },
      "source": [
        "print ('Welcome to the tip calculator')"
      ],
      "execution_count": null,
      "outputs": []
    },
    {
      "cell_type": "code",
      "metadata": {
        "id": "YNsp6uzA6WwI"
      },
      "source": [
        "bill = float(input('what whas the total bill?\\n'))"
      ],
      "execution_count": null,
      "outputs": []
    },
    {
      "cell_type": "code",
      "metadata": {
        "id": "iI_Yn0UY6j0O"
      },
      "source": [
        "tip_pct = int(input('what percentage tip would you like to give?\\n'))/100"
      ],
      "execution_count": null,
      "outputs": []
    },
    {
      "cell_type": "code",
      "metadata": {
        "id": "ZZyW2N7W6xsZ"
      },
      "source": [
        "ppl_amount = int(input('how many people to split the bill?\\n'))"
      ],
      "execution_count": null,
      "outputs": []
    },
    {
      "cell_type": "code",
      "metadata": {
        "id": "QxdBFdMJ7BN4"
      },
      "source": [
        "value_per_person = (bill*(tip_pct+1))/ppl_amount"
      ],
      "execution_count": null,
      "outputs": []
    },
    {
      "cell_type": "code",
      "metadata": {
        "id": "GZ3p2jqU8Or1"
      },
      "source": [
        "value_rounded = round(value_per_person,2)"
      ],
      "execution_count": null,
      "outputs": []
    },
    {
      "cell_type": "code",
      "metadata": {
        "id": "TiPO3nUX7oCz"
      },
      "source": [
        "print (f'each person should pay: ${value_rounded}')"
      ],
      "execution_count": null,
      "outputs": []
    }
  ]
}