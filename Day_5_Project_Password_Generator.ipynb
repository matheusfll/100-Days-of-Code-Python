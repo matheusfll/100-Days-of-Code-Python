{
  "nbformat": 4,
  "nbformat_minor": 0,
  "metadata": {
    "colab": {
      "name": "Day_5_Project_Password_Generator.ipynb",
      "provenance": [],
      "authorship_tag": "ABX9TyMBtIHfbYDFJwIhb7nfmOZ8",
      "include_colab_link": true
    },
    "kernelspec": {
      "name": "python3",
      "display_name": "Python 3"
    }
  },
  "cells": [
    {
      "cell_type": "markdown",
      "metadata": {
        "id": "view-in-github",
        "colab_type": "text"
      },
      "source": [
        "<a href=\"https://colab.research.google.com/github/matheusfll/100-Days-of-Code-Python/blob/main/Day_5_Project_Password_Generator.ipynb\" target=\"_parent\"><img src=\"https://colab.research.google.com/assets/colab-badge.svg\" alt=\"Open In Colab\"/></a>"
      ]
    },
    {
      "cell_type": "code",
      "metadata": {
        "colab": {
          "base_uri": "https://localhost:8080/"
        },
        "id": "evVmVhwhKglh",
        "outputId": "41e9ca97-5071-4718-a690-f6ed4af2f043"
      },
      "source": [
        "#Password Generator Project\r\n",
        "import random\r\n",
        "letters = ['a', 'b', 'c', 'd', 'e', 'f', 'g', 'h', 'i', 'j', 'k', 'l', 'm', 'n', 'o', 'p', 'q', 'r', 's', 't', 'u', 'v', 'w', 'x', 'y', 'z', 'A', 'B', 'C', 'D', 'E', 'F', 'G', 'H', 'I', 'J', 'K', 'L', 'M', 'N', 'O', 'P', 'Q', 'R', 'S', 'T', 'U', 'V', 'W', 'X', 'Y', 'Z']\r\n",
        "numbers = ['0', '1', '2', '3', '4', '5', '6', '7', '8', '9']\r\n",
        "symbols = ['!', '#', '$', '%', '&', '(', ')', '*', '+']\r\n",
        "\r\n",
        "print(\"Welcome to the PyPassword Generator!\")\r\n",
        "nr_letters= int(input(\"How many letters would you like in your password?\\n\")) \r\n",
        "nr_symbols = int(input(f\"How many symbols would you like?\\n\"))\r\n",
        "nr_numbers = int(input(f\"How many numbers would you like?\\n\"))\r\n",
        "\r\n",
        "#Eazy Level - Order not randomised:\r\n",
        "#e.g. 4 letter, 2 symbol, 2 number = JduE&!91\r\n",
        "pw = \"\"\r\n",
        "for char in range (1, nr_letters+1):\r\n",
        "  pw = pw + random.choice(letters)\r\n",
        "\r\n",
        "for char in range (1, nr_symbols+1):\r\n",
        "  pw = pw + random.choice(symbols)\r\n",
        "\r\n",
        "for char in range (1, nr_numbers+1):\r\n",
        "  pw = pw + random.choice(numbers)\r\n",
        "\r\n",
        "print (f'Easy level password is: {pw}')\r\n",
        "\r\n",
        "\r\n",
        "\r\n",
        "#Hard Level - Order of characters randomised:\r\n",
        "#e.g. 4 letter, 2 symbol, 2 number = g^2jk8&P\r\n",
        "\r\n",
        "pw_list = list(pw)\r\n",
        "random.shuffle(pw_list)\r\n",
        "pw_shuffle = ''.join(pw_list)\r\n",
        "\r\n",
        "print (f'Hard level password is: {pw_shuffle}')"
      ],
      "execution_count": 1,
      "outputs": [
        {
          "output_type": "stream",
          "text": [
            "Welcome to the PyPassword Generator!\n",
            "How many letters would you like in your password?\n",
            "4\n",
            "How many symbols would you like?\n",
            "4\n",
            "How many numbers would you like?\n",
            "4\n",
            "Easy level password is OZwK+$!)1707\n",
            "Hard level password is )+Z7!07KOw1$\n"
          ],
          "name": "stdout"
        }
      ]
    }
  ]
}