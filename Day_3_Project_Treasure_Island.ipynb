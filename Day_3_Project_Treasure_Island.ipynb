{
  "nbformat": 4,
  "nbformat_minor": 0,
  "metadata": {
    "colab": {
      "name": "Day_3_Project_Treasure_Island.ipynb",
      "provenance": [],
      "authorship_tag": "ABX9TyOv9/XtiSnowwVQJcdmYTsc",
      "include_colab_link": true
    },
    "kernelspec": {
      "name": "python3",
      "display_name": "Python 3"
    }
  },
  "cells": [
    {
      "cell_type": "markdown",
      "metadata": {
        "id": "view-in-github",
        "colab_type": "text"
      },
      "source": [
        "<a href=\"https://colab.research.google.com/github/matheusfll/100-Days-of-Code-Python/blob/main/Day_3_Project_Treasure_Island.ipynb\" target=\"_parent\"><img src=\"https://colab.research.google.com/assets/colab-badge.svg\" alt=\"Open In Colab\"/></a>"
      ]
    },
    {
      "cell_type": "code",
      "metadata": {
        "id": "AAWgj91YDl1L"
      },
      "source": [
        "print('''\r\n",
        "*******************************************************************************\r\n",
        "          |                   |                  |                     |\r\n",
        " _________|________________.=\"\"_;=.______________|_____________________|_______\r\n",
        "|                   |  ,-\"_,=\"\"     `\"=.|                  |\r\n",
        "|___________________|__\"=._o`\"-._        `\"=.______________|___________________\r\n",
        "          |                `\"=._o`\"=._      _`\"=._                     |\r\n",
        " _________|_____________________:=._o \"=._.\"_.-=\"'\"=.__________________|_______\r\n",
        "|                   |    __.--\" , ; `\"=._o.\" ,-\"\"\"-._ \".   |\r\n",
        "|___________________|_._\"  ,. .` ` `` ,  `\"-._\"-._   \". '__|___________________\r\n",
        "          |           |o`\"=._` , \"` `; .\". ,  \"-._\"-._; ;              |\r\n",
        " _________|___________| ;`-.o`\"=._; .\" ` '`.\"\\` . \"-._ /_______________|_______\r\n",
        "|                   | |o;    `\"-.o`\"=._``  '` \" ,__.--o;   |\r\n",
        "|___________________|_| ;     (#) `-.o `\"=.`_.--\"_o.-; ;___|___________________\r\n",
        "____/______/______/___|o;._    \"      `\".o|o_.--\"    ;o;____/______/______/____\r\n",
        "/______/______/______/_\"=._o--._        ; | ;        ; ;/______/______/______/_\r\n",
        "____/______/______/______/__\"=._o--._   ;o|o;     _._;o;____/______/______/____\r\n",
        "/______/______/______/______/____\"=._o._; | ;_.--\"o.--\"_/______/______/______/_\r\n",
        "____/______/______/______/______/_____\"=.o|o_.--\"\"___/______/______/______/____\r\n",
        "/______/______/______/______/______/______/______/______/______/______/_____ /\r\n",
        "*******************************************************************************\r\n",
        "''')\r\n",
        "print(\"Welcome to Treasure Island.\")\r\n",
        "print(\"Your mission is to find the treasure.\") "
      ],
      "execution_count": null,
      "outputs": []
    },
    {
      "cell_type": "code",
      "metadata": {
        "id": "DZY33PjTMe_R"
      },
      "source": [
        "choice1 = input('You\\'re at a cross road. Where do you want to go? Type \"left\" or \"right\" \\n').lower()\r\n",
        "if choice1 == \"left\":\r\n",
        "  choice2 = input('You\\'ve come to a lake. There is an island in the middle of the lake. Type \"wait\" to wait for a boat. Type \"swim\" to swim across. \\n').lower()\r\n",
        "  if choice2 == \"wait\":\r\n",
        "    choice3 = input(\"You arrive at the island unharmed. There is a house with 3 doors. One red, one yellow and one blue. Which colour do you choose? \\n\").lower()\r\n",
        "    if choice3 == \"red\":\r\n",
        "      print(\"It's a room full of fire. Game Over.\")\r\n",
        "    elif choice3 == \"yellow\":\r\n",
        "      print(\"You found the treasure! You Win!\")\r\n",
        "    elif choice3 == \"blue\":\r\n",
        "      print(\"You enter a room of beasts. Game Over.\")\r\n",
        "    else:\r\n",
        "      print(\"You chose a door that doesn't exist. Game Over.\")\r\n",
        "  else:\r\n",
        "    print(\"You get attacked by an angry trout. Game Over.\")\r\n",
        "else:\r\n",
        "  print(\"You fell into a hole. Game Over.\")"
      ],
      "execution_count": null,
      "outputs": []
    }
  ]
}