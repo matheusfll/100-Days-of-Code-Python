{
  "nbformat": 4,
  "nbformat_minor": 0,
  "metadata": {
    "colab": {
      "name": "Day_9_Project_Secret_Auction.ipynb",
      "provenance": [],
      "authorship_tag": "ABX9TyPRcOp6Pa/2IPK//O5gt5mz",
      "include_colab_link": true
    },
    "kernelspec": {
      "name": "python3",
      "display_name": "Python 3"
    }
  },
  "cells": [
    {
      "cell_type": "markdown",
      "metadata": {
        "id": "view-in-github",
        "colab_type": "text"
      },
      "source": [
        "<a href=\"https://colab.research.google.com/github/matheusfll/100-Days-of-Code-Python/blob/main/Day_9_Project_Secret_Auction.ipynb\" target=\"_parent\"><img src=\"https://colab.research.google.com/assets/colab-badge.svg\" alt=\"Open In Colab\"/></a>"
      ]
    },
    {
      "cell_type": "code",
      "metadata": {
        "id": "_pzqwIANjEyc"
      },
      "source": [
        "from google.colab import output\r\n",
        "\r\n",
        "logo ='''\r\n",
        "                         ___________\r\n",
        "                         \\         /\r\n",
        "                          )_______(\r\n",
        "                          |\"\"\"\"\"\"\"|_.-._,.---------.,_.-._\r\n",
        "                          |       | | |               | | ''-.\r\n",
        "                          |       |_| |_             _| |_..-'\r\n",
        "                          |_______| '-' `'---------'` '-'\r\n",
        "                          )\"\"\"\"\"\"\"(\r\n",
        "                         /_________\\\\\r\n",
        "                       .-------------.\r\n",
        "                      /_______________\\\\\r\n",
        "'''\r\n",
        "\r\n",
        "biddings = {}\r\n",
        "should_continue = True\r\n",
        "\r\n",
        "def find_highest_bidder(bidding_record):\r\n",
        "  highest_bid = 0\r\n",
        "  winner = \"\"\r\n",
        "  for bidder in bidding_record:\r\n",
        "    bid_amount = bidding_record[bidder]\r\n",
        "    if bid_amount > highest_bid:\r\n",
        "      highest_bid = bid_amount\r\n",
        "      winner = bidder\r\n",
        "  print (f'the winner is {winner} with a bid of ${highest_bid}')\r\n",
        "\r\n",
        "while should_continue == True:\r\n",
        "  print (logo)\r\n",
        "  name = input('what is your name: \\n')\r\n",
        "  amount = float(input('your bid price is: \\n$'))\r\n",
        "  other_bidder = input('are there more bidders? \\n').lower()\r\n",
        "  biddings[name] = amount\r\n",
        "  \r\n",
        "  if other_bidder == 'no':\r\n",
        "    should_continue = False\r\n",
        "    find_highest_bidder(biddings)\r\n",
        "  else:\r\n",
        "    output.clear()\r\n"
      ],
      "execution_count": null,
      "outputs": []
    }
  ]
}